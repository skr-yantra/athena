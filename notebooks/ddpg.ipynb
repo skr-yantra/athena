{
 "cells": [
  {
   "cell_type": "code",
   "execution_count": 1,
   "metadata": {
    "pycharm": {
     "is_executing": false
    }
   },
   "outputs": [],
   "source": [
    "import tensorflow as tf\n",
    "import pandas as pd\n",
    "import numpy as np"
   ]
  },
  {
   "cell_type": "code",
   "execution_count": 2,
   "metadata": {
    "pycharm": {
     "is_executing": false
    }
   },
   "outputs": [],
   "source": [
    "s1 = pd.Series(['ep1', [0, 0, 0, 0, 0], [1., 0.1, 0.1, 0., 0], [1, 1, 1, 1, 1], -1., False], index=['episode', 's_t', 'a_t', 's_t+1', 'r_t', 'terminal_state'])"
   ]
  },
  {
   "cell_type": "code",
   "execution_count": 3,
   "metadata": {
    "pycharm": {
     "is_executing": false
    }
   },
   "outputs": [],
   "source": [
    "p1 = pd.DataFrame([s1, s1])"
   ]
  },
  {
   "cell_type": "code",
   "execution_count": 4,
   "metadata": {
    "pycharm": {
     "is_executing": false
    }
   },
   "outputs": [
    {
     "data": {
      "text/plain": "  episode              s_t                      a_t            s_t+1  r_t  \\\n0     ep1  [0, 0, 0, 0, 0]  [1.0, 0.1, 0.1, 0.0, 0]  [1, 1, 1, 1, 1] -1.0   \n1     ep1  [0, 0, 0, 0, 0]  [1.0, 0.1, 0.1, 0.0, 0]  [1, 1, 1, 1, 1] -1.0   \n\n   terminal_state  \n0           False  \n1           False  ",
      "text/html": "<div>\n<style scoped>\n    .dataframe tbody tr th:only-of-type {\n        vertical-align: middle;\n    }\n\n    .dataframe tbody tr th {\n        vertical-align: top;\n    }\n\n    .dataframe thead th {\n        text-align: right;\n    }\n</style>\n<table border=\"1\" class=\"dataframe\">\n  <thead>\n    <tr style=\"text-align: right;\">\n      <th></th>\n      <th>episode</th>\n      <th>s_t</th>\n      <th>a_t</th>\n      <th>s_t+1</th>\n      <th>r_t</th>\n      <th>terminal_state</th>\n    </tr>\n  </thead>\n  <tbody>\n    <tr>\n      <th>0</th>\n      <td>ep1</td>\n      <td>[0, 0, 0, 0, 0]</td>\n      <td>[1.0, 0.1, 0.1, 0.0, 0]</td>\n      <td>[1, 1, 1, 1, 1]</td>\n      <td>-1.0</td>\n      <td>False</td>\n    </tr>\n    <tr>\n      <th>1</th>\n      <td>ep1</td>\n      <td>[0, 0, 0, 0, 0]</td>\n      <td>[1.0, 0.1, 0.1, 0.0, 0]</td>\n      <td>[1, 1, 1, 1, 1]</td>\n      <td>-1.0</td>\n      <td>False</td>\n    </tr>\n  </tbody>\n</table>\n</div>"
     },
     "metadata": {},
     "output_type": "execute_result",
     "execution_count": 4
    }
   ],
   "source": [
    "p1"
   ]
  },
  {
   "cell_type": "code",
   "execution_count": 5,
   "metadata": {
    "pycharm": {
     "is_executing": false
    }
   },
   "outputs": [
    {
     "data": {
      "text/plain": "  episode              s_t                      a_t            s_t+1  r_t  \\\n1     ep1  [0, 0, 0, 0, 0]  [1.0, 0.1, 0.1, 0.0, 0]  [1, 1, 1, 1, 1] -1.0   \n\n   terminal_state  \n1           False  ",
      "text/html": "<div>\n<style scoped>\n    .dataframe tbody tr th:only-of-type {\n        vertical-align: middle;\n    }\n\n    .dataframe tbody tr th {\n        vertical-align: top;\n    }\n\n    .dataframe thead th {\n        text-align: right;\n    }\n</style>\n<table border=\"1\" class=\"dataframe\">\n  <thead>\n    <tr style=\"text-align: right;\">\n      <th></th>\n      <th>episode</th>\n      <th>s_t</th>\n      <th>a_t</th>\n      <th>s_t+1</th>\n      <th>r_t</th>\n      <th>terminal_state</th>\n    </tr>\n  </thead>\n  <tbody>\n    <tr>\n      <th>1</th>\n      <td>ep1</td>\n      <td>[0, 0, 0, 0, 0]</td>\n      <td>[1.0, 0.1, 0.1, 0.0, 0]</td>\n      <td>[1, 1, 1, 1, 1]</td>\n      <td>-1.0</td>\n      <td>False</td>\n    </tr>\n  </tbody>\n</table>\n</div>"
     },
     "metadata": {},
     "output_type": "execute_result",
     "execution_count": 5
    }
   ],
   "source": [
    "p1.sample(1)"
   ]
  },
  {
   "cell_type": "code",
   "execution_count": 6,
   "metadata": {
    "pycharm": {
     "is_executing": false
    }
   },
   "outputs": [],
   "source": [
    "r = np.array([1, 2, 3, 4, 5, 6])"
   ]
  },
  {
   "cell_type": "code",
   "execution_count": 8,
   "metadata": {
    "pycharm": {
     "is_executing": false
    }
   },
   "outputs": [
    {
     "name": "stdout",
     "text": [
      "0\n",
      "1\n"
     ],
     "output_type": "stream"
    },
    {
     "data": {
      "text/plain": "0   -1.99\n1   -1.00\ndtype: float64"
     },
     "metadata": {},
     "output_type": "execute_result",
     "execution_count": 8
    }
   ],
   "source": [
    "samples = p1\n",
    "gamma=0.99\n",
    "\n",
    "def _reward_calculator(row):\n",
    "    start = row.name\n",
    "    end = p1.index[p1.episode == row.episode].max()\n",
    "    print(start)\n",
    "\n",
    "    return np.sum(p1.r_t.loc[start:end+1] * (gamma ** np.arange(end-start+1)))\n",
    "\n",
    "samples.apply(_reward_calculator, axis=1)"
   ]
  }
 ],
 "metadata": {
  "kernelspec": {
   "display_name": "Python 3",
   "language": "python",
   "name": "python3"
  },
  "language_info": {
   "codemirror_mode": {
    "name": "ipython",
    "version": 3
   },
   "file_extension": ".py",
   "mimetype": "text/x-python",
   "name": "python",
   "nbconvert_exporter": "python",
   "pygments_lexer": "ipython3",
   "version": "3.7.4"
  }
 },
 "nbformat": 4,
 "nbformat_minor": 4
}